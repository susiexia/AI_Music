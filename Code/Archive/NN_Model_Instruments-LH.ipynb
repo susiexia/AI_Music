{
 "cells": [
  {
   "cell_type": "markdown",
   "metadata": {},
   "source": [
    "# Load Database Tables into Python"
   ]
  },
  {
   "cell_type": "code",
   "execution_count": 1,
   "metadata": {},
   "outputs": [],
   "source": [
    "# Import Dependencies\n",
    "import sqlalchemy\n",
    "from sqlalchemy import create_engine\n",
    "from config import db_password\n",
    "import pandas as pd"
   ]
  },
  {
   "cell_type": "code",
   "execution_count": 2,
   "metadata": {},
   "outputs": [
    {
     "name": "stderr",
     "output_type": "stream",
     "text": [
      "Using TensorFlow backend.\n"
     ]
    }
   ],
   "source": [
    "# Import dependencies\n",
    "from sklearn.model_selection import train_test_split\n",
    "# from sklearn.preprocessing import OneHotEncoder\n",
    "from sklearn.preprocessing import LabelEncoder\n",
    "\n",
    "import keras\n",
    "from keras.models import Sequential\n",
    "from keras.layers import Dense, Dropout, Flatten, Conv2D, MaxPooling2D, Activation\n",
    "from keras.utils import to_categorical\n",
    "from keras.layers.advanced_activations import LeakyReLU\n",
    "\n",
    "import matplotlib.pyplot as plt\n",
    "import numpy as np\n"
   ]
  },
  {
   "cell_type": "code",
   "execution_count": 3,
   "metadata": {},
   "outputs": [],
   "source": [
    "# read data from Postgres Database\n",
    "engine = create_engine('postgresql://postgres:'+ db_password +'@localhost:5432/AI_Music_DB')\n",
    "\n",
    "instruments_df = pd.read_sql_table('Instruments_Spectrogram_Table',engine)\n",
    "# instruments_df"
   ]
  },
  {
   "cell_type": "code",
   "execution_count": 4,
   "metadata": {},
   "outputs": [
    {
     "data": {
      "text/plain": [
       "numpy.ndarray"
      ]
     },
     "execution_count": 4,
     "metadata": {},
     "output_type": "execute_result"
    }
   ],
   "source": [
    "# Convert Spectrograms from list to ndarray\n",
    "instruments_df['Spectrogram'] = instruments_df['Spectrogram'].apply(lambda x: np.array(x))\n",
    "\n",
    "type(instruments_df['Spectrogram'].iloc[0])"
   ]
  },
  {
   "cell_type": "markdown",
   "metadata": {},
   "source": [
    "# MODEL - Neural Network "
   ]
  },
  {
   "cell_type": "code",
   "execution_count": 5,
   "metadata": {},
   "outputs": [],
   "source": [
    "# Create train and test data sets\n",
    "X_series1 = instruments_df[\"Spectrogram\"]\n",
    "y1 = instruments_df[\"Instrument_name\"]"
   ]
  },
  {
   "cell_type": "code",
   "execution_count": 6,
   "metadata": {},
   "outputs": [],
   "source": [
    "# Parameters\n",
    "\n",
    "channels = 1 # number of audio channels\n",
    "spectrogram_shape1 = X_series1[1].shape + (channels,)\n",
    "batch1 = spectrogram_shape1[1]"
   ]
  },
  {
   "cell_type": "code",
   "execution_count": 7,
   "metadata": {},
   "outputs": [
    {
     "data": {
      "text/plain": [
       "(44, 128)"
      ]
     },
     "execution_count": 7,
     "metadata": {},
     "output_type": "execute_result"
    }
   ],
   "source": [
    "X_series1[1].shape"
   ]
  },
  {
   "cell_type": "code",
   "execution_count": 8,
   "metadata": {},
   "outputs": [],
   "source": [
    "# Reshape X into size of spectrogram and convert to ndarray\n",
    "X1 = np.array([i.reshape( (spectrogram_shape1) ) for i in X_series1])"
   ]
  },
  {
   "cell_type": "code",
   "execution_count": 9,
   "metadata": {},
   "outputs": [],
   "source": [
    "# Encode pitches\n",
    "\n",
    "le = LabelEncoder() \n",
    "y1 = le.fit_transform(y1)\n",
    "\n",
    "# Split dataset\n",
    "X_train1, X_test1, y_train1, y_test1 = train_test_split(X1, y1, random_state=78)\n",
    "\n",
    "# Reshape for model\n",
    "# X_train = np.array([X.reshape(20, 20, 1) for x in X_train])\n",
    "# X_test = np.array([X.reshape(20, 20, 1) for x in X_test])\n",
    "\n",
    "# onehotencoder = OneHotEncoder() \n",
    "y_test_hot1 = to_categorical(y_test1)\n",
    "y_train_hot1 = to_categorical(y_train1)"
   ]
  },
  {
   "cell_type": "code",
   "execution_count": 10,
   "metadata": {},
   "outputs": [
    {
     "data": {
      "text/plain": [
       "(44, 128, 1)"
      ]
     },
     "execution_count": 10,
     "metadata": {},
     "output_type": "execute_result"
    }
   ],
   "source": [
    "# Troubleshooting queries\n",
    "type(X_train1[1])\n",
    "X_train1[1].shape\n",
    "# X_train[1]"
   ]
  },
  {
   "cell_type": "code",
   "execution_count": 11,
   "metadata": {},
   "outputs": [],
   "source": [
    "# # Model\n",
    "# model = Sequential()\n",
    "# # input_shape=(128, 128, 1)\n",
    "\n",
    "# model.add(Conv2D(24, (5, 5), strides=(1, 1), input_shape=spectrogram_shape))\n",
    "# model.add(MaxPooling2D((4, 2), strides=(4, 2)))\n",
    "# model.add(Activation('relu'))\n",
    "\n",
    "# model.add(Conv2D(48, (5, 5), padding=\"valid\"))\n",
    "# model.add(MaxPooling2D((4, 2), strides=(4, 2)))\n",
    "# model.add(Activation('relu'))\n",
    "\n",
    "# model.add(Conv2D(48, (5, 5), padding=\"valid\"))\n",
    "# model.add(Activation('relu'))\n",
    "\n",
    "# model.add(Flatten())\n",
    "# model.add(Dropout(rate=0.5))\n",
    "\n",
    "# model.add(Dense(64))\n",
    "# model.add(Activation('relu'))\n",
    "# model.add(Dropout(rate=0.5))\n",
    "\n",
    "# model.add(Dense(10))\n",
    "# model.add(Activation('softmax'))"
   ]
  },
  {
   "cell_type": "code",
   "execution_count": 12,
   "metadata": {},
   "outputs": [],
   "source": [
    "# model.compile(\n",
    "# \toptimizer=\"Adam\",\n",
    "# \tloss=\"categorical_crossentropy\",\n",
    "# \tmetrics=['accuracy'])\n",
    "\n",
    "# model.fit(\n",
    "# \tx=X_train, \n",
    "# \ty=y_train,\n",
    "#     epochs=12,\n",
    "#     batch_size=batch,\n",
    "#     validation_data= (X_test, y_test))\n",
    "\n",
    "# score = model.evaluate(\n",
    "# \tx=X_test,\n",
    "# \ty=y_test)\n",
    "\n",
    "# print('Test loss:', score[0])\n",
    "# print('Test accuracy:', score[1])"
   ]
  },
  {
   "cell_type": "code",
   "execution_count": 13,
   "metadata": {},
   "outputs": [],
   "source": [
    "# Model\n",
    "instruments_model = Sequential()\n",
    "instruments_model.add(Conv2D(32, kernel_size=(3, 3),activation='linear',input_shape=(spectrogram_shape1),padding='same'))\n",
    "instruments_model.add(LeakyReLU(alpha=0.1))\n",
    "instruments_model.add(MaxPooling2D((2, 2),padding='same'))\n",
    "instruments_model.add(Conv2D(64, (3, 3), activation='linear',padding='same'))\n",
    "instruments_model.add(LeakyReLU(alpha=0.1))\n",
    "instruments_model.add(MaxPooling2D(pool_size=(2, 2),padding='same'))\n",
    "instruments_model.add(Conv2D(128, (3, 3), activation='linear',padding='same'))\n",
    "instruments_model.add(LeakyReLU(alpha=0.1))                  \n",
    "instruments_model.add(MaxPooling2D(pool_size=(2, 2),padding='same'))\n",
    "instruments_model.add(Flatten())\n",
    "instruments_model.add(Dense(128, activation='linear'))\n",
    "instruments_model.add(LeakyReLU(alpha=0.1))                  \n",
    "instruments_model.add(Dense(14, activation='softmax')) ########### make 14 variable for instrument num"
   ]
  },
  {
   "cell_type": "code",
   "execution_count": 14,
   "metadata": {},
   "outputs": [],
   "source": [
    "instruments_model.compile(loss=keras.losses.categorical_crossentropy, optimizer=keras.optimizers.Adam(),metrics=['accuracy'])"
   ]
  },
  {
   "cell_type": "code",
   "execution_count": 15,
   "metadata": {},
   "outputs": [],
   "source": [
    "# fashion_model.summary()"
   ]
  },
  {
   "cell_type": "code",
   "execution_count": 16,
   "metadata": {},
   "outputs": [
    {
     "name": "stdout",
     "output_type": "stream",
     "text": [
      "Train on 2184 samples, validate on 729 samples\n",
      "Epoch 1/8\n",
      "2184/2184 [==============================] - 20s 9ms/step - loss: 2.1920 - accuracy: 0.3008 - val_loss: 1.7361 - val_accuracy: 0.4678\n",
      "Epoch 2/8\n",
      "2184/2184 [==============================] - 19s 9ms/step - loss: 1.3929 - accuracy: 0.5270 - val_loss: 1.2317 - val_accuracy: 0.5665\n",
      "Epoch 3/8\n",
      "2184/2184 [==============================] - 19s 9ms/step - loss: 1.0275 - accuracy: 0.6506 - val_loss: 1.1707 - val_accuracy: 0.5761\n",
      "Epoch 4/8\n",
      "2184/2184 [==============================] - 28s 13ms/step - loss: 0.9710 - accuracy: 0.6708 - val_loss: 1.0318 - val_accuracy: 0.6529\n",
      "Epoch 5/8\n",
      "2184/2184 [==============================] - 20s 9ms/step - loss: 0.7165 - accuracy: 0.7573 - val_loss: 0.8327 - val_accuracy: 0.7133\n",
      "Epoch 6/8\n",
      "2184/2184 [==============================] - 18s 8ms/step - loss: 0.5478 - accuracy: 0.8104 - val_loss: 0.7209 - val_accuracy: 0.7517\n",
      "Epoch 7/8\n",
      "2184/2184 [==============================] - 20s 9ms/step - loss: 0.4734 - accuracy: 0.8379 - val_loss: 0.7788 - val_accuracy: 0.7229\n",
      "Epoch 8/8\n",
      "2184/2184 [==============================] - 20s 9ms/step - loss: 0.4245 - accuracy: 0.8553 - val_loss: 0.6879 - val_accuracy: 0.7654\n"
     ]
    }
   ],
   "source": [
    "instruments_train = instruments_model.fit(X_train1, y_train_hot1, batch_size=batch1,epochs=8,verbose=1,validation_data=(X_test1, y_test_hot1))"
   ]
  },
  {
   "cell_type": "code",
   "execution_count": 17,
   "metadata": {},
   "outputs": [
    {
     "data": {
      "image/png": "[encoded data removed]",
      "text/plain": [
       "<Figure size 432x288 with 2 Axes>"
      ]
     },
     "execution_count": 17,
     "metadata": {},
     "output_type": "execute_result"
    },
    {
     "data": {
      "image/png": "[encoded data removed]",
      "text/plain": [
       "<Figure size 432x288 with 2 Axes>"
      ]
     },
     "metadata": {
      "needs_background": "light"
     },
     "output_type": "display_data"
    }
   ],
   "source": [
    "# plotting the metrics\n",
    "fig = plt.figure()\n",
    "plt.subplot(2,1,1)\n",
    "plt.plot(instruments_train.history['accuracy'])\n",
    "plt.plot(instruments_train.history['val_accuracy'])\n",
    "plt.title('model accuracy')\n",
    "plt.ylabel('accuracy')\n",
    "plt.xlabel('epoch')\n",
    "plt.legend(['train', 'test'], loc='lower right')\n",
    "plt.subplot(2,1,2)\n",
    "plt.plot(instruments_train.history['loss'])\n",
    "plt.plot(instruments_train.history['val_loss'])\n",
    "plt.title('model loss')\n",
    "plt.ylabel('loss')\n",
    "plt.xlabel('epoch')\n",
    "plt.legend(['train', 'test'], loc='upper right')\n",
    "plt.tight_layout()\n",
    "fig"
   ]
  },
  {
   "cell_type": "code",
   "execution_count": null,
   "metadata": {},
   "outputs": [],
   "source": []
  }
 ],
 "metadata": {
  "file_extension": ".py",
  "kernelspec": {
   "display_name": "PythonData",
   "language": "python",
   "name": "pythondata"
  },
  "language_info": {
   "codemirror_mode": {
    "name": "ipython",
    "version": 3
   },
   "file_extension": ".py",
   "mimetype": "text/x-python",
   "name": "python",
   "nbconvert_exporter": "python",
   "pygments_lexer": "ipython3",
   "version": "3.6.9"
  },
  "mimetype": "text/x-python",
  "name": "python",
  "npconvert_exporter": "python",
  "pygments_lexer": "ipython3",
  "version": 3
 },
 "nbformat": 4,
 "nbformat_minor": 2
}
